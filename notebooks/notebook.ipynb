{
 "cells": [
  {
   "cell_type": "code",
   "execution_count": 1,
   "metadata": {},
   "outputs": [],
   "source": [
    "from src.inference.groq import ChatGroq\n",
    "from src.inference.ollama import Ollama\n",
    "from src.inference.gemini import ChatGemini\n",
    "from src.message import AIMessage,SystemMessage,HumanMessage,ImageMessage\n",
    "from dotenv import load_dotenv\n",
    "import os\n",
    "import asyncio"
   ]
  },
  {
   "cell_type": "code",
   "execution_count": 2,
   "metadata": {},
   "outputs": [],
   "source": [
    "load_dotenv()\n",
    "api_key=os.getenv('GOOGLE_API_KEY')"
   ]
  },
  {
   "cell_type": "code",
   "execution_count": 3,
   "metadata": {},
   "outputs": [],
   "source": [
    "# llm=ChatGemini(model='gemini-1.5-flash',api_key=api_key)\n",
    "# llm.invoke([SystemMessage('You are a helpful AI Assistant.'),ImageMessage(text='This is a screenshot for a Google search page. What is in the bbox #5',image_path='./image.png')])"
   ]
  }
 ],
 "metadata": {
  "kernelspec": {
   "display_name": ".venv",
   "language": "python",
   "name": "python3"
  },
  "language_info": {
   "codemirror_mode": {
    "name": "ipython",
    "version": 3
   },
   "file_extension": ".py",
   "mimetype": "text/x-python",
   "name": "python",
   "nbconvert_exporter": "python",
   "pygments_lexer": "ipython3",
   "version": "3.12.7"
  }
 },
 "nbformat": 4,
 "nbformat_minor": 2
}
