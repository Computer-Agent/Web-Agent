{
 "cells": [
  {
   "cell_type": "code",
   "execution_count": null,
   "metadata": {},
   "outputs": [],
   "source": [
    "from src.embedding.gemini import GeminiEmbedding\n",
    "from src.inference.gemini import ChatGemini\n",
    "from src.agent.web import WebSearchAgent\n",
    "from dotenv import load_dotenv\n",
    "import os\n",
    "\n",
    "load_dotenv()\n",
    "api_key=os.getenv('GOOGLE_API_KEY')\n",
    "llm=ChatGemini(model='gemini-1.5-flash',api_key=api_key,temperature=0)\n",
    "embedding=GeminiEmbedding(model='text-embedding-004',api_key=api_key,task_type='SEMANTIC_SIMILARITY')\n"
   ]
  },
  {
   "cell_type": "code",
   "execution_count": 15,
   "metadata": {},
   "outputs": [],
   "source": [
    "from sklearn.metrics.pairwise import cosine_similarity\n",
    "from sklearn.feature_extraction.text import TfidfVectorizer\n",
    "import numpy as np"
   ]
  },
  {
   "cell_type": "code",
   "execution_count": 16,
   "metadata": {},
   "outputs": [],
   "source": [
    "def compute_cosine_similarity(text1, text2):\n",
    "    # Convert text to lowercase\n",
    "    text1, text2 = text1.lower().strip(), text2.lower().strip()\n",
    "\n",
    "    # Initialize the TF-IDF Vectorizer\n",
    "    # vectorizer = TfidfVectorizer().fit_transform([text1, text2])\n",
    "    v1=np.array(embedding.embed(text1)).reshape(-1,1)\n",
    "    v2=np.array(embedding.embed(text2)).reshape(-1,1)\n",
    "    cosine_sim = cosine_similarity(v1,v2)[0][0]\n",
    "        \n",
    "    return float(cosine_sim)"
   ]
  }
 ],
 "metadata": {
  "kernelspec": {
   "display_name": ".venv",
   "language": "python",
   "name": "python3"
  },
  "language_info": {
   "codemirror_mode": {
    "name": "ipython",
    "version": 3
   },
   "file_extension": ".py",
   "mimetype": "text/x-python",
   "name": "python",
   "nbconvert_exporter": "python",
   "pygments_lexer": "ipython3",
   "version": "3.12.7"
  }
 },
 "nbformat": 4,
 "nbformat_minor": 2
}
