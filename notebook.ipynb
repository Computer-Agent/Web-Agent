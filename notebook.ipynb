{
 "cells": [
  {
   "cell_type": "code",
   "execution_count": 2,
   "metadata": {},
   "outputs": [],
   "source": [
    "from src.inference.gemini import ChatGemini\n",
    "from src.agent.web import WebAgent\n",
    "from dotenv import load_dotenv\n",
    "import os"
   ]
  },
  {
   "cell_type": "code",
   "execution_count": 4,
   "metadata": {},
   "outputs": [],
   "source": [
    "# # Load environment variables\n",
    "# load_dotenv()\n",
    "    \n",
    "# api_key = os.getenv('GOOGLE_API_KEY')\n",
    "    \n",
    "# # Parse command-line arguments\n",
    "# llm = ChatGemini(model='gemini-2.0-flash-exp', api_key=api_key, temperature=0)\n",
    "# agent = WebAgent(instructions=[],llm=llm, browser='edge', verbose=True, headless=False, use_vision=True)\n",
    "    \n",
    "# # Invoke the agent with the user's query\n",
    "# agent_response = agent.invoke(\"Can you check the stock price of nvidia today\")\n",
    "# print(agent_response)"
   ]
  }
 ],
 "metadata": {
  "kernelspec": {
   "display_name": ".venv",
   "language": "python",
   "name": "python3"
  },
  "language_info": {
   "codemirror_mode": {
    "name": "ipython",
    "version": 3
   },
   "file_extension": ".py",
   "mimetype": "text/x-python",
   "name": "python",
   "nbconvert_exporter": "python",
   "pygments_lexer": "ipython3",
   "version": "3.12.8"
  }
 },
 "nbformat": 4,
 "nbformat_minor": 2
}
